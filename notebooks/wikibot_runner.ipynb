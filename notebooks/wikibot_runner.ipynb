{
 "cells": [
  {
   "cell_type": "code",
   "execution_count": 1,
   "id": "359bfd12-8a43-4cee-b143-1ad23bfacb6b",
   "metadata": {},
   "outputs": [],
   "source": [
    "import random\n",
    "import time\n",
    "\n",
    "import pywikibot\n",
    "import mwparserfromhell"
   ]
  },
  {
   "cell_type": "code",
   "execution_count": 2,
   "id": "372ac153-f505-4b34-a6d3-2a4bbabaa83d",
   "metadata": {},
   "outputs": [],
   "source": [
    "class MyWikiBot(object):\n",
    "    def __init__(self, lang='en', wiki='wikipedia'):\n",
    "        self.site = pywikibot.Site(lang, wiki)  # The site we want to run our bot on\n",
    "\n",
    "    def is_valid_link(self, link):\n",
    "        # Filter out images, categories, and non-internal links\n",
    "        return not str(link.title).startswith((\"File:\", \"Category:\", \"Talk:\", \"User:\", \"Template:\", \"Help:\", \"Portal:\", \"Draft:\", \"TimedText:\", \"MediaWiki:\", \"Module:\", \"Special:\"))\n",
    "\n",
    "    def find_related_pages(self, base: str):\n",
    "        page = pywikibot.Page(self.site, base)\n",
    "        \n",
    "        text = page.get()\n",
    "        \n",
    "        parsed = mwparserfromhell.parse(text)\n",
    "\n",
    "        links = []\n",
    "\n",
    "        for node in parsed.filter_wikilinks():\n",
    "            if self.is_valid_link(node):\n",
    "                links.append(node)\n",
    "        \n",
    "        return list({str(link.title) for link in links})"
   ]
  },
  {
   "cell_type": "code",
   "execution_count": 3,
   "id": "0db118f7-b25e-48d9-99df-1b3e7c981d66",
   "metadata": {},
   "outputs": [
    {
     "name": "stdout",
     "output_type": "stream",
     "text": [
      "['Galeb-class_minelayer', 'anti-aircraft warfare', 'close-in weapon system', 'terminal guidance', 'guidance system']\n"
     ]
    }
   ],
   "source": [
    "current_page = 'Galeb-class_minelayer'\n",
    "history = []\n",
    "\n",
    "bot = MyWikiBot()\n",
    "\n",
    "for _ in range(5):\n",
    "    history.append(current_page)\n",
    "    \n",
    "    related_pages = bot.find_related_pages(current_page)\n",
    "\n",
    "    current_page = random.choice(related_pages)\n",
    "\n",
    "    time.sleep(3)\n",
    "\n",
    "print(history)"
   ]
  }
 ],
 "metadata": {
  "kernelspec": {
   "display_name": "Django Shell-Plus",
   "language": "python",
   "name": "django_extensions"
  },
  "language_info": {
   "codemirror_mode": {
    "name": "ipython",
    "version": 3
   },
   "file_extension": ".py",
   "mimetype": "text/x-python",
   "name": "python",
   "nbconvert_exporter": "python",
   "pygments_lexer": "ipython3",
   "version": "3.11.4"
  }
 },
 "nbformat": 4,
 "nbformat_minor": 5
}
